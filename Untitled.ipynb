{
 "cells": [
  {
   "cell_type": "code",
   "execution_count": 1,
   "id": "20ec88b6",
   "metadata": {},
   "outputs": [
    {
     "name": "stdout",
     "output_type": "stream",
     "text": [
      "key, values, item: \n",
      "1 10 1\n",
      "2 20 2\n",
      "3 30 3\n",
      "4 40 4\n",
      "5 50 5\n",
      "6 60 6\n"
     ]
    }
   ],
   "source": [
    "dictionary = {1: 10, 2: 20, 3: 30, 4: 40, 5: 50, 6: 60}\n",
    "print(\"key, values, item: \")\n",
    "for key, value in dictionary.items():\n",
    "    print(key, value, key)"
   ]
  },
  {
   "cell_type": "code",
   "execution_count": 2,
   "id": "44f9bef7",
   "metadata": {},
   "outputs": [
    {
     "name": "stdout",
     "output_type": "stream",
     "text": [
      "{'red': '#FF0000', 'green': '#008000', 'blue': '#0000FF'}\n"
     ]
    }
   ],
   "source": [
    "List_a = ['red', 'green', 'blue']\n",
    "List_b = ['#FF0000', '#008000', '#0000FF']\n",
    "\n",
    "items = dict(zip(List_a, List_b))\n",
    "print(items)\n"
   ]
  },
  {
   "cell_type": "code",
   "execution_count": 3,
   "id": "a5ad8ede",
   "metadata": {},
   "outputs": [
    {
     "name": "stdout",
     "output_type": "stream",
     "text": [
      "Histogram Email:\n",
      "\n",
      "Jumlah Pesan Email:\n"
     ]
    }
   ],
   "source": [
    "with open('mbox-short.txt', 'r') as file:\n",
    "    lines = file.readlines()\n",
    "\n",
    "email_histogram = {}\n",
    "email_count = {}\n",
    "\n",
    "for line in lines:\n",
    "    if line.startswith('From:'):\n",
    "        email = line.split()[1]\n",
    "        email_histogram[email] = email_histogram.get(email, 0) + 1\n",
    "        email_count[email] = email_count.get(email, 0) + 1\n",
    "\n",
    "print(\"Histogram Email:\")\n",
    "for email, count in email_histogram.items():\n",
    "    print(f\"{email}: {'*' * count}\")\n",
    "\n",
    "print(\"\\nJumlah Pesan Email:\")\n",
    "for email, count in email_count.items():\n",
    "    print(f\"{email}: {count}\")\n",
    "\n",
    "    "
   ]
  },
  {
   "cell_type": "code",
   "execution_count": 4,
   "id": "4e51b383",
   "metadata": {},
   "outputs": [
    {
     "name": "stdout",
     "output_type": "stream",
     "text": [
      "Masukkan nama file: mbox-short2.txt\n",
      "{}\n"
     ]
    }
   ],
   "source": [
    "def count_email_domains(filename):\n",
    "    counts_domain = {}\n",
    "    with open(filename, 'r') as file:\n",
    "        for line in file:\n",
    "            if line.startswith(\"From \"):\n",
    "                email = line.split()[1]\n",
    "                domain = email.split('@')[1]\n",
    "                counts_domain[domain] = counts_domain.get(domain, 0) + 1\n",
    "    return counts_domain\n",
    "\n",
    "filename = input(\"Masukkan nama file: \")\n",
    "counts_domain = count_email_domains(filename)\n",
    "print(counts_domain)\n"
   ]
  },
  {
   "cell_type": "code",
   "execution_count": null,
   "id": "e1a33f7d",
   "metadata": {},
   "outputs": [],
   "source": []
  }
 ],
 "metadata": {
  "kernelspec": {
   "display_name": "Python 3 (ipykernel)",
   "language": "python",
   "name": "python3"
  },
  "language_info": {
   "codemirror_mode": {
    "name": "ipython",
    "version": 3
   },
   "file_extension": ".py",
   "mimetype": "text/x-python",
   "name": "python",
   "nbconvert_exporter": "python",
   "pygments_lexer": "ipython3",
   "version": "3.11.5"
  }
 },
 "nbformat": 4,
 "nbformat_minor": 5
}
